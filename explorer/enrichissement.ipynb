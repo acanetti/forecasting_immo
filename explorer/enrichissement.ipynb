{
 "cells": [
  {
   "cell_type": "code",
   "execution_count": 1,
   "metadata": {},
   "outputs": [],
   "source": [
    "import pandas as pd\n",
    "import os\n",
    "import plotly.express as px\n",
    "import numpy as np \n",
    "import matplotlib.pyplot as plt\n",
    "from pycorrcat.pycorrcat import plot_corr, corr_matrix\n",
    "\n",
    "import seaborn as sns\n",
    "pd.options.display.max_columns = 99"
   ]
  },
  {
   "cell_type": "code",
   "execution_count": 2,
   "metadata": {},
   "outputs": [
    {
     "name": "stderr",
     "output_type": "stream",
     "text": [
      "C:\\Users\\axelb\\AppData\\Local\\Temp\\ipykernel_1356\\105131456.py:1: DtypeWarning: Columns (2,9) have mixed types. Specify dtype option on import or set low_memory=False.\n",
      "  df = pd.read_csv('../data/pre_training_data.csv', sep = '|')\n"
     ]
    }
   ],
   "source": [
    "df = pd.read_csv('../data/pre_training_data.csv', sep = '|')"
   ]
  },
  {
   "cell_type": "code",
   "execution_count": 3,
   "metadata": {},
   "outputs": [
    {
     "data": {
      "text/html": [
       "<div>\n",
       "<style scoped>\n",
       "    .dataframe tbody tr th:only-of-type {\n",
       "        vertical-align: middle;\n",
       "    }\n",
       "\n",
       "    .dataframe tbody tr th {\n",
       "        vertical-align: top;\n",
       "    }\n",
       "\n",
       "    .dataframe thead th {\n",
       "        text-align: right;\n",
       "    }\n",
       "</style>\n",
       "<table border=\"1\" class=\"dataframe\">\n",
       "  <thead>\n",
       "    <tr style=\"text-align: right;\">\n",
       "      <th></th>\n",
       "      <th>Date mutation</th>\n",
       "      <th>Valeur fonciere</th>\n",
       "      <th>Code departement</th>\n",
       "      <th>Code commune</th>\n",
       "      <th>Nombre de lots</th>\n",
       "      <th>Type local</th>\n",
       "      <th>Surface reelle bati</th>\n",
       "      <th>Nombre pieces principales</th>\n",
       "      <th>Nature culture</th>\n",
       "      <th>Nature culture speciale</th>\n",
       "      <th>Surface terrain</th>\n",
       "    </tr>\n",
       "  </thead>\n",
       "  <tbody>\n",
       "    <tr>\n",
       "      <th>0</th>\n",
       "      <td>04/01/2019</td>\n",
       "      <td>37220.0</td>\n",
       "      <td>1</td>\n",
       "      <td>53</td>\n",
       "      <td>1.0</td>\n",
       "      <td>Appartement</td>\n",
       "      <td>20.0</td>\n",
       "      <td>1.0</td>\n",
       "      <td>NaN</td>\n",
       "      <td>NaN</td>\n",
       "      <td>0.0</td>\n",
       "    </tr>\n",
       "    <tr>\n",
       "      <th>1</th>\n",
       "      <td>04/01/2019</td>\n",
       "      <td>185100.0</td>\n",
       "      <td>1</td>\n",
       "      <td>53</td>\n",
       "      <td>1.0</td>\n",
       "      <td>Dépendance</td>\n",
       "      <td>0.0</td>\n",
       "      <td>0.0</td>\n",
       "      <td>NaN</td>\n",
       "      <td>NaN</td>\n",
       "      <td>0.0</td>\n",
       "    </tr>\n",
       "    <tr>\n",
       "      <th>2</th>\n",
       "      <td>04/01/2019</td>\n",
       "      <td>185100.0</td>\n",
       "      <td>1</td>\n",
       "      <td>53</td>\n",
       "      <td>2.0</td>\n",
       "      <td>Appartement</td>\n",
       "      <td>62.0</td>\n",
       "      <td>3.0</td>\n",
       "      <td>NaN</td>\n",
       "      <td>NaN</td>\n",
       "      <td>0.0</td>\n",
       "    </tr>\n",
       "    <tr>\n",
       "      <th>3</th>\n",
       "      <td>08/01/2019</td>\n",
       "      <td>209000.0</td>\n",
       "      <td>1</td>\n",
       "      <td>314</td>\n",
       "      <td>0.0</td>\n",
       "      <td>Maison</td>\n",
       "      <td>90.0</td>\n",
       "      <td>4.0</td>\n",
       "      <td>S</td>\n",
       "      <td>NaN</td>\n",
       "      <td>940.0</td>\n",
       "    </tr>\n",
       "    <tr>\n",
       "      <th>4</th>\n",
       "      <td>07/01/2019</td>\n",
       "      <td>134900.0</td>\n",
       "      <td>1</td>\n",
       "      <td>350</td>\n",
       "      <td>0.0</td>\n",
       "      <td>Maison</td>\n",
       "      <td>101.0</td>\n",
       "      <td>5.0</td>\n",
       "      <td>S</td>\n",
       "      <td>NaN</td>\n",
       "      <td>490.0</td>\n",
       "    </tr>\n",
       "  </tbody>\n",
       "</table>\n",
       "</div>"
      ],
      "text/plain": [
       "  Date mutation  Valeur fonciere Code departement  Code commune  \\\n",
       "0    04/01/2019          37220.0                1            53   \n",
       "1    04/01/2019         185100.0                1            53   \n",
       "2    04/01/2019         185100.0                1            53   \n",
       "3    08/01/2019         209000.0                1           314   \n",
       "4    07/01/2019         134900.0                1           350   \n",
       "\n",
       "   Nombre de lots   Type local  Surface reelle bati  \\\n",
       "0             1.0  Appartement                 20.0   \n",
       "1             1.0   Dépendance                  0.0   \n",
       "2             2.0  Appartement                 62.0   \n",
       "3             0.0       Maison                 90.0   \n",
       "4             0.0       Maison                101.0   \n",
       "\n",
       "   Nombre pieces principales Nature culture Nature culture speciale  \\\n",
       "0                        1.0            NaN                     NaN   \n",
       "1                        0.0            NaN                     NaN   \n",
       "2                        3.0            NaN                     NaN   \n",
       "3                        4.0              S                     NaN   \n",
       "4                        5.0              S                     NaN   \n",
       "\n",
       "   Surface terrain  \n",
       "0              0.0  \n",
       "1              0.0  \n",
       "2              0.0  \n",
       "3            940.0  \n",
       "4            490.0  "
      ]
     },
     "execution_count": 3,
     "metadata": {},
     "output_type": "execute_result"
    }
   ],
   "source": [
    "df.head()"
   ]
  },
  {
   "cell_type": "code",
   "execution_count": 4,
   "metadata": {},
   "outputs": [
    {
     "data": {
      "text/plain": [
       "Index(['Date mutation', 'Valeur fonciere', 'Code departement', 'Code commune',\n",
       "       'Nombre de lots', 'Type local', 'Surface reelle bati',\n",
       "       'Nombre pieces principales', 'Nature culture',\n",
       "       'Nature culture speciale', 'Surface terrain'],\n",
       "      dtype='object')"
      ]
     },
     "execution_count": 4,
     "metadata": {},
     "output_type": "execute_result"
    }
   ],
   "source": [
    "df.columns"
   ]
  },
  {
   "cell_type": "code",
   "execution_count": 5,
   "metadata": {},
   "outputs": [
    {
     "data": {
      "text/plain": [
       "Type local\n",
       "Maison                                      706812\n",
       "Appartement                                 607602\n",
       "Dépendance                                  440312\n",
       "Local industriel. commercial ou assimilé    134674\n",
       "Name: count, dtype: int64"
      ]
     },
     "execution_count": 5,
     "metadata": {},
     "output_type": "execute_result"
    }
   ],
   "source": [
    "df['Type local'].value_counts()"
   ]
  },
  {
   "cell_type": "code",
   "execution_count": 6,
   "metadata": {},
   "outputs": [],
   "source": [
    "targets = ['Fonciere Privee','Family Office','Marchand de Bien','Institutionnel','Fond immobilier', 'Agricole']\n",
    "\n",
    "categories = ['Immeuble pleine propriete','Commerce','Bureau','Hotellerie','Entrepot et logistique', 'Terrain Agricole']"
   ]
  },
  {
   "cell_type": "markdown",
   "metadata": {},
   "source": [
    "##### Foncière Privée : 50% Immeuble pleine propriété / 5% Commerce / 15% Bureau / 30% Hôtellerie\n",
    "\n",
    "##### Family Office : 70% Immeuble pleine propriété / 5% Commerce / 5% Bureau\n",
    "\n",
    "##### Marchand de Bien : 1/6 pour tout\n",
    "\n",
    "##### Institutionnel : 10% Immeuble pleine propriété / 80% Bureau (Grande superficie) / 10% Entrepot et logistique\n",
    "\n",
    "##### Fond immobilier : 25% Immeuble pleine propriété / 15% Commerce / 15% Bureau / 20% Hôtellerie / 10% Entrepot et logistique / 5% Terrain Agricole\n",
    "\n",
    "##### Agricole : 5% Commerce / 20% Entrepot et logistique / 75% Terrain Agricole (Grande superficie)"
   ]
  },
  {
   "cell_type": "markdown",
   "metadata": {},
   "source": [
    "prc = 50+70+10+25+1/6*100\n",
    "\n",
    "\n",
    "Immeuble pleine propriété = 50/prc*100 Foncière Privée + 70/prc*100 Family Office + 1/6*100/prc*100 Marchand de Bien + 10/prc*100 Institutionnel + 25/prc*100 Fond immobilier\n",
    "\n",
    "Commerce = 5/30 Foncière Privée + 5/30 Family Office + 15/30 Fond immobilier + 5/30 Agricole\n",
    "\n",
    "Bureau = 15/115 Foncière Privée + 5/115 Family Office + 80/115 Institutionnel + 15/115 Fond immobilier\n",
    "\n",
    "Hotellerie = 60% Foncière Privée + 40% Fond immobilier\n",
    "\n",
    "Entrepot et logistique = 10/40 Institutionnel + 10/40 Fond immobilier + 20/40 Agricole\n",
    "\n",
    "Terrain Agricole = 5/80 Fond immobilier + 75/80 Agricole"
   ]
  },
  {
   "cell_type": "code",
   "execution_count": 7,
   "metadata": {},
   "outputs": [],
   "source": [
    "# COLUMNS TO DUMIES\n",
    "cols = ['Nature culture', 'Nature culture speciale','Code departement', 'Code commune', 'Type local']\n",
    "\n",
    "df_dummified = pd.get_dummies(df, columns = cols, drop_first=True)"
   ]
  },
  {
   "cell_type": "code",
   "execution_count": 17,
   "metadata": {},
   "outputs": [
    {
     "data": {
      "text/plain": [
       "{'Immeuble pleine propriete': {'Fonciere Privee': 29.126213592233015,\n",
       "  'Family Office': 40.77669902912622,\n",
       "  'Marchand de Bien': 9.70873786407767,\n",
       "  'Institutionnel': 5.825242718446602,\n",
       "  'Fond immobilier': 14.563106796116507},\n",
       " 'Commerce': {'Fonciere Privee': 0.16666666666666666,\n",
       "  'Family Office': 0.16666666666666666,\n",
       "  'Fond immobilier': 0.5,\n",
       "  'Agricole': 0.16666666666666666},\n",
       " 'Bureau': {'Fonciere Privee': 0.13043478260869565,\n",
       "  'Family Office': 0.043478260869565216,\n",
       "  'Institutionnel': 0.6956521739130435,\n",
       "  'Fond immobilier': 0.13043478260869565},\n",
       " 'Hotellerie': {'Fonciere Privee': 60, 'Fond immobilier': 40},\n",
       " 'Entrepot et logistique': {'Institutionnel': 0.25,\n",
       "  'Fond immobilier': 0.25,\n",
       "  'Agricole': 0.5},\n",
       " 'Terrain Agricole': {'Fond immobilier': 0.0625, 'Agricole': 0.9375}}"
      ]
     },
     "execution_count": 17,
     "metadata": {},
     "output_type": "execute_result"
    }
   ],
   "source": [
    "prc = 50+70+10+25+1/6*100\n",
    "\n",
    "rules = {\n",
    "    'Immeuble pleine propriete': {\n",
    "        'Fonciere Privee': 50 / prc * 100,\n",
    "        'Family Office': 70 / prc * 100,\n",
    "        'Marchand de Bien': 1 / 6 * 100 / prc * 100,\n",
    "        'Institutionnel': 10 / prc * 100,\n",
    "        'Fond immobilier': 25 / prc * 100\n",
    "    },\n",
    "    'Commerce': {\n",
    "        'Fonciere Privee': 5 / 30,\n",
    "        'Family Office': 5 / 30,\n",
    "        'Fond immobilier': 15 / 30,\n",
    "        'Agricole': 5 / 30\n",
    "    },\n",
    "    'Bureau': {\n",
    "        'Fonciere Privee': 15 / 115,\n",
    "        'Family Office': 5 / 115,\n",
    "        'Institutionnel': 80 / 115,\n",
    "        'Fond immobilier': 15 / 115\n",
    "    },\n",
    "    'Hotellerie': {\n",
    "        'Fonciere Privee': 60,\n",
    "        'Fond immobilier': 40\n",
    "    },\n",
    "    'Entrepot et logistique': {\n",
    "        'Institutionnel': 10 / 40,\n",
    "        'Fond immobilier': 10 / 40,\n",
    "        'Agricole': 20 / 40\n",
    "    },\n",
    "    'Terrain Agricole': {\n",
    "        'Fond immobilier': 5 / 80,\n",
    "        'Agricole': 75 / 80\n",
    "    }\n",
    "}\n",
    "rules"
   ]
  },
  {
   "cell_type": "code",
   "execution_count": 22,
   "metadata": {},
   "outputs": [
    {
     "data": {
      "text/plain": [
       "Type local\n",
       "Maison                                      706812\n",
       "Appartement                                 607602\n",
       "Dépendance                                  440312\n",
       "Local industriel. commercial ou assimilé    134674\n",
       "Name: count, dtype: int64"
      ]
     },
     "execution_count": 22,
     "metadata": {},
     "output_type": "execute_result"
    }
   ],
   "source": [
    "df['Type local'].value_counts()"
   ]
  }
 ],
 "metadata": {
  "kernelspec": {
   "display_name": ".venv",
   "language": "python",
   "name": "python3"
  },
  "language_info": {
   "codemirror_mode": {
    "name": "ipython",
    "version": 3
   },
   "file_extension": ".py",
   "mimetype": "text/x-python",
   "name": "python",
   "nbconvert_exporter": "python",
   "pygments_lexer": "ipython3",
   "version": "3.12.2"
  }
 },
 "nbformat": 4,
 "nbformat_minor": 2
}
